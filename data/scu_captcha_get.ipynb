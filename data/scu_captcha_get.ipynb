{
 "cells": [
  {
   "cell_type": "code",
   "execution_count": 1,
   "metadata": {},
   "outputs": [],
   "source": [
    "import numpy as np\n",
    "import cv2\n",
    "import matplotlib.pyplot as plt"
   ]
  },
  {
   "cell_type": "code",
   "execution_count": 2,
   "metadata": {},
   "outputs": [],
   "source": [
    "import random"
   ]
  },
  {
   "cell_type": "code",
   "execution_count": 3,
   "metadata": {},
   "outputs": [],
   "source": [
    "import urllib.request"
   ]
  },
  {
   "cell_type": "code",
   "execution_count": 4,
   "metadata": {},
   "outputs": [],
   "source": [
    "def getNum(img):\n",
    "    img = img[:,:,::-1]\n",
    "    boolen = (img[:,:,0]-(img[:,:,1]/2+img[:,:,2]/2)) < 21\n",
    "    boolen.reshape((*boolen.shape,1))\n",
    "    boolen = np.stack((boolen,boolen,boolen),2)\n",
    "    imgn = img.copy()\n",
    "    imgn[boolen] = 255\n",
    "    \n",
    "    boolen = imgn[:,:,0] >= 21\n",
    "    boolen.reshape((*boolen.shape,1))\n",
    "    boolen = np.stack((boolen,np.zeros(boolen.shape,np.bool),np.zeros(boolen.shape,np.bool)),2)\n",
    "    imgn[boolen] = 255\n",
    "    imgn[imgn>200] = 255\n",
    "    \n",
    "    imgn_blur = cv2.GaussianBlur(imgn,(5,5),0)\n",
    "    img_r = (255 - imgn_blur)[:,:,1]\n",
    "    kernel = cv2.getStructuringElement(cv2.MORPH_RECT,(3,3))\n",
    "    opened = cv2.morphologyEx(img_r, cv2.MORPH_OPEN, kernel,iterations=2)\n",
    "    \n",
    "    return img_r,opened\n",
    "\n",
    "def resizePic(img,size=(60,20)):\n",
    "    return cv2.resize(img, size)\n",
    "\n",
    "def findArea(img):\n",
    "    arr = []\n",
    "    for i in range(img.shape[1]):\n",
    "        if img[:,i].sum() >= 255:\n",
    "            if len(arr) == 0:\n",
    "                arr.append(i)\n",
    "                arr.append(img.shape[1]-1)\n",
    "            else:\n",
    "                arr[1] = i\n",
    "    return arr[0],arr[1]\n",
    "\n",
    "def divArea(img):\n",
    "    imgMin, imgMax = findArea(img)\n",
    "    img = img.copy()\n",
    "    img[img<50] = 0\n",
    "    step = (imgMax - imgMin)/4\n",
    "    idx = np.linspace(imgMin, imgMax, 5).astype('int32')\n",
    "    arr = []\n",
    "    for i in range(3):\n",
    "        index = idx[1+i]\n",
    "        index = int(index - step//2)\n",
    "        arrx = []\n",
    "        for j in range(int(step)):\n",
    "            k = index + j\n",
    "            pev = img[:,k-1].sum()\n",
    "            pre = img[:,k].sum()\n",
    "            time = max(pev,pre) / (min(pev,pre) + 0.01)\n",
    "            if time > 5 and (pev > 100 or pre >100):\n",
    "                arrx.append([k,time])\n",
    "        arrx.append([idx[1+i],5])\n",
    "        for k in range(len(arrx)):\n",
    "            if arrx[k][0] - idx[1+i] <= 3 or idx[2+i] - arrx[k][0] <= 3:\n",
    "                arrx[k][1] = 4\n",
    "        arrx.sort(key=lambda x:x[1],reverse=True)\n",
    "        arr.append(arrx[0][0])\n",
    "    return [imgMin, *arr, imgMax]"
   ]
  },
  {
   "cell_type": "code",
   "execution_count": 5,
   "metadata": {},
   "outputs": [],
   "source": [
    "def showPic(img):\n",
    "    res, res_opened = getNum(img)\n",
    "    res_resize = resizePic(res)\n",
    "    a = divArea(res_resize)\n",
    "    plt.subplot(211)\n",
    "    plt.imshow(res_resize,cmap='gray')\n",
    "    for i in range(4):\n",
    "        plt.subplot(245+i)\n",
    "        plt.imshow(res_resize[:,a[0+i]:a[1+i]+1],cmap='gray')"
   ]
  },
  {
   "cell_type": "code",
   "execution_count": 18,
   "metadata": {},
   "outputs": [
    {
     "data": {
      "image/png": "[encoded data removed]",
      "text/plain": [
       "<Figure size 432x288 with 5 Axes>"
      ]
     },
     "metadata": {
      "needs_background": "light"
     },
     "output_type": "display_data"
    }
   ],
   "source": [
    "showPic(cv2.imread('8.jpg'))"
   ]
  },
  {
   "cell_type": "code",
   "execution_count": 28,
   "metadata": {},
   "outputs": [],
   "source": [
    "def showPic_opencv(img):\n",
    "    res, res_opened = getNum(img)\n",
    "    res_resize = resizePic(res)\n",
    "    a = divArea(res_resize)\n",
    "    for i in range(4):\n",
    "        img2save = res_resize[:,a[0+i]:a[1+i]+1]\n",
    "        cv2.imshow('pic',img2save)\n",
    "        k = cv2.waitKey(0)\n",
    "        cv2.destroyAllWindows()\n",
    "        if k != ord('-') and k != ord('='):\n",
    "            cv2.imwrite('captcha/'+chr(k)+'_'+str(random.random())+'.png',img2save)\n",
    "        elif k == ord('='):\n",
    "            return False\n",
    "    return True\n"
   ]
  },
  {
   "cell_type": "code",
   "execution_count": 26,
   "metadata": {},
   "outputs": [],
   "source": [
    "def url_to_image(url):\n",
    "    resp = urllib.request.urlopen(url)\n",
    "    image = np.asarray(bytearray(resp.read()), dtype=\"uint8\")\n",
    "    image = cv2.imdecode(image, cv2.IMREAD_COLOR)\n",
    "    return image"
   ]
  },
  {
   "cell_type": "code",
   "execution_count": 27,
   "metadata": {},
   "outputs": [],
   "source": [
    "img = url_to_image('http://202.115.47.141/img/captcha.jpg')\n",
    "while showPic_opencv(img):\n",
    "    img = url_to_image('http://202.115.47.141/img/captcha.jpg')"
   ]
  }
 ],
 "metadata": {
  "kernelspec": {
   "display_name": "Python 3",
   "language": "python",
   "name": "python3"
  },
  "language_info": {
   "codemirror_mode": {
    "name": "ipython",
    "version": 3
   },
   "file_extension": ".py",
   "mimetype": "text/x-python",
   "name": "python",
   "nbconvert_exporter": "python",
   "pygments_lexer": "ipython3",
   "version": "3.7.2"
  }
 },
 "nbformat": 4,
 "nbformat_minor": 2
}
